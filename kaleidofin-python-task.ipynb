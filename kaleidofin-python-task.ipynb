{
  "nbformat": 4,
  "nbformat_minor": 0,
  "metadata": {
    "colab": {
      "name": "intern.ipynb",
      "provenance": [],
      "collapsed_sections": []
    },
    "kernelspec": {
      "name": "python3",
      "display_name": "Python 3"
    }
  },
  "cells": [
    {
      "cell_type": "code",
      "metadata": {
        "id": "5QRcLpfXTWUJ"
      },
      "source": [
        "# importing necessary libraries.\r\n",
        "\r\n",
        "import numpy as np\r\n",
        "import pandas as pd"
      ],
      "execution_count": 1,
      "outputs": []
    },
    {
      "cell_type": "code",
      "metadata": {
        "id": "aqcJSptEAnAx"
      },
      "source": [
        "# reading the given data excel file as a Pandas dataframe\r\n",
        "\r\n",
        "df= pd.read_excel('Exercise Data.xlsx')"
      ],
      "execution_count": 2,
      "outputs": []
    },
    {
      "cell_type": "code",
      "metadata": {
        "colab": {
          "base_uri": "https://localhost:8080/",
          "height": 204
        },
        "id": "4IQ5Edw0BWCE",
        "outputId": "25665454-cff7-4667-82af-57ec19d0bf7c"
      },
      "source": [
        "df.head()"
      ],
      "execution_count": 3,
      "outputs": [
        {
          "output_type": "execute_result",
          "data": {
            "text/html": [
              "<div>\n",
              "<style scoped>\n",
              "    .dataframe tbody tr th:only-of-type {\n",
              "        vertical-align: middle;\n",
              "    }\n",
              "\n",
              "    .dataframe tbody tr th {\n",
              "        vertical-align: top;\n",
              "    }\n",
              "\n",
              "    .dataframe thead th {\n",
              "        text-align: right;\n",
              "    }\n",
              "</style>\n",
              "<table border=\"1\" class=\"dataframe\">\n",
              "  <thead>\n",
              "    <tr style=\"text-align: right;\">\n",
              "      <th></th>\n",
              "      <th>Unnamed: 0</th>\n",
              "      <th>Unnamed: 1</th>\n",
              "      <th>Unnamed: 2</th>\n",
              "      <th>Unnamed: 3</th>\n",
              "      <th>Unnamed: 4</th>\n",
              "      <th>Unnamed: 5</th>\n",
              "    </tr>\n",
              "  </thead>\n",
              "  <tbody>\n",
              "    <tr>\n",
              "      <th>0</th>\n",
              "      <td>Month</td>\n",
              "      <td>Contribution</td>\n",
              "      <td>Amount won by the bidder</td>\n",
              "      <td>Chit fund organizer commission</td>\n",
              "      <td>Net amount recd by Bid winner</td>\n",
              "      <td>Amount returned to everyone in the group</td>\n",
              "    </tr>\n",
              "    <tr>\n",
              "      <th>1</th>\n",
              "      <td>1</td>\n",
              "      <td>2000</td>\n",
              "      <td>40000</td>\n",
              "      <td>2500</td>\n",
              "      <td>37500</td>\n",
              "      <td>400</td>\n",
              "    </tr>\n",
              "    <tr>\n",
              "      <th>2</th>\n",
              "      <td>2</td>\n",
              "      <td>2000</td>\n",
              "      <td>42000</td>\n",
              "      <td>2500</td>\n",
              "      <td>39500</td>\n",
              "      <td>320</td>\n",
              "    </tr>\n",
              "    <tr>\n",
              "      <th>3</th>\n",
              "      <td>3</td>\n",
              "      <td>2000</td>\n",
              "      <td>45000</td>\n",
              "      <td>2500</td>\n",
              "      <td>42500</td>\n",
              "      <td>200</td>\n",
              "    </tr>\n",
              "    <tr>\n",
              "      <th>4</th>\n",
              "      <td>4</td>\n",
              "      <td>2000</td>\n",
              "      <td>48000</td>\n",
              "      <td>2500</td>\n",
              "      <td>45500</td>\n",
              "      <td>80</td>\n",
              "    </tr>\n",
              "  </tbody>\n",
              "</table>\n",
              "</div>"
            ],
            "text/plain": [
              "  Unnamed: 0  ...                                Unnamed: 5\n",
              "0      Month  ...  Amount returned to everyone in the group\n",
              "1          1  ...                                       400\n",
              "2          2  ...                                       320\n",
              "3          3  ...                                       200\n",
              "4          4  ...                                        80\n",
              "\n",
              "[5 rows x 6 columns]"
            ]
          },
          "metadata": {
            "tags": []
          },
          "execution_count": 3
        }
      ]
    },
    {
      "cell_type": "code",
      "metadata": {
        "id": "KoGtNCh5BXZI"
      },
      "source": [
        "# replacing header with top row\r\n",
        "\r\n",
        "df = df.rename(columns=df.iloc[0]).drop(df.index[0])"
      ],
      "execution_count": 4,
      "outputs": []
    },
    {
      "cell_type": "code",
      "metadata": {
        "colab": {
          "base_uri": "https://localhost:8080/",
          "height": 204
        },
        "id": "oBvVPceZDuKK",
        "outputId": "2875abb0-134e-4fd9-ba75-d1fadb0aa511"
      },
      "source": [
        "df.head()"
      ],
      "execution_count": 5,
      "outputs": [
        {
          "output_type": "execute_result",
          "data": {
            "text/html": [
              "<div>\n",
              "<style scoped>\n",
              "    .dataframe tbody tr th:only-of-type {\n",
              "        vertical-align: middle;\n",
              "    }\n",
              "\n",
              "    .dataframe tbody tr th {\n",
              "        vertical-align: top;\n",
              "    }\n",
              "\n",
              "    .dataframe thead th {\n",
              "        text-align: right;\n",
              "    }\n",
              "</style>\n",
              "<table border=\"1\" class=\"dataframe\">\n",
              "  <thead>\n",
              "    <tr style=\"text-align: right;\">\n",
              "      <th></th>\n",
              "      <th>Month</th>\n",
              "      <th>Contribution</th>\n",
              "      <th>Amount won by the bidder</th>\n",
              "      <th>Chit fund organizer commission</th>\n",
              "      <th>Net amount recd by Bid winner</th>\n",
              "      <th>Amount returned to everyone in the group</th>\n",
              "    </tr>\n",
              "  </thead>\n",
              "  <tbody>\n",
              "    <tr>\n",
              "      <th>1</th>\n",
              "      <td>1</td>\n",
              "      <td>2000</td>\n",
              "      <td>40000</td>\n",
              "      <td>2500</td>\n",
              "      <td>37500</td>\n",
              "      <td>400</td>\n",
              "    </tr>\n",
              "    <tr>\n",
              "      <th>2</th>\n",
              "      <td>2</td>\n",
              "      <td>2000</td>\n",
              "      <td>42000</td>\n",
              "      <td>2500</td>\n",
              "      <td>39500</td>\n",
              "      <td>320</td>\n",
              "    </tr>\n",
              "    <tr>\n",
              "      <th>3</th>\n",
              "      <td>3</td>\n",
              "      <td>2000</td>\n",
              "      <td>45000</td>\n",
              "      <td>2500</td>\n",
              "      <td>42500</td>\n",
              "      <td>200</td>\n",
              "    </tr>\n",
              "    <tr>\n",
              "      <th>4</th>\n",
              "      <td>4</td>\n",
              "      <td>2000</td>\n",
              "      <td>48000</td>\n",
              "      <td>2500</td>\n",
              "      <td>45500</td>\n",
              "      <td>80</td>\n",
              "    </tr>\n",
              "    <tr>\n",
              "      <th>5</th>\n",
              "      <td>5</td>\n",
              "      <td>2000</td>\n",
              "      <td>40000</td>\n",
              "      <td>2500</td>\n",
              "      <td>37500</td>\n",
              "      <td>400</td>\n",
              "    </tr>\n",
              "  </tbody>\n",
              "</table>\n",
              "</div>"
            ],
            "text/plain": [
              "  Month  ... Amount returned to everyone in the group\n",
              "1     1  ...                                      400\n",
              "2     2  ...                                      320\n",
              "3     3  ...                                      200\n",
              "4     4  ...                                       80\n",
              "5     5  ...                                      400\n",
              "\n",
              "[5 rows x 6 columns]"
            ]
          },
          "metadata": {
            "tags": []
          },
          "execution_count": 5
        }
      ]
    },
    {
      "cell_type": "code",
      "metadata": {
        "colab": {
          "base_uri": "https://localhost:8080/"
        },
        "id": "-XFzv0slCssY",
        "outputId": "3bc28920-4857-40ce-a448-6e2a7b5c5013"
      },
      "source": [
        "# calculating the total sum of surplus amount that is to be returned to everyone\r\n",
        "\r\n",
        "df['Amount returned to everyone in the group'].sum()"
      ],
      "execution_count": 6,
      "outputs": [
        {
          "output_type": "execute_result",
          "data": {
            "text/plain": [
              "6200"
            ]
          },
          "metadata": {
            "tags": []
          },
          "execution_count": 6
        }
      ]
    },
    {
      "cell_type": "code",
      "metadata": {
        "colab": {
          "base_uri": "https://localhost:8080/"
        },
        "id": "ffH3WCByDKr4",
        "outputId": "bde82bca-3919-4146-92a2-f030a24e3179"
      },
      "source": [
        "# amount received by the first bidder is =\r\n",
        "\r\n",
        "df['Net amount recd by Bid winner'][1]"
      ],
      "execution_count": 7,
      "outputs": [
        {
          "output_type": "execute_result",
          "data": {
            "text/plain": [
              "37500"
            ]
          },
          "metadata": {
            "tags": []
          },
          "execution_count": 7
        }
      ]
    },
    {
      "cell_type": "code",
      "metadata": {
        "colab": {
          "base_uri": "https://localhost:8080/"
        },
        "id": "yBwvEMRxEAcZ",
        "outputId": "0e6d8a57-d39e-460b-a8c8-d1b5963cf124"
      },
      "source": [
        "# amount received by the last bidder is = \r\n",
        "\r\n",
        "df['Net amount recd by Bid winner'][25] + df['Amount returned to everyone in the group'].sum()"
      ],
      "execution_count": 8,
      "outputs": [
        {
          "output_type": "execute_result",
          "data": {
            "text/plain": [
              "53700"
            ]
          },
          "metadata": {
            "tags": []
          },
          "execution_count": 8
        }
      ]
    },
    {
      "cell_type": "code",
      "metadata": {
        "id": "xIR6yYjxEUag"
      },
      "source": [
        "# creating a list to keep a record of how much the bidder received from the surplus\r\n",
        "\r\n",
        "list=[]\r\n",
        "column = df['Amount returned to everyone in the group']\r\n",
        "\r\n",
        "sum = 0\r\n",
        "list.append(0)\r\n",
        "for amount in column[:len(column) - 1]:\r\n",
        "    sum += amount\r\n",
        "    list.append(sum)"
      ],
      "execution_count": 9,
      "outputs": []
    },
    {
      "cell_type": "code",
      "metadata": {
        "colab": {
          "base_uri": "https://localhost:8080/"
        },
        "id": "EOlIQIJoGNwJ",
        "outputId": "84a5ef72-1099-403f-c917-1291185c2cf1"
      },
      "source": [
        "list"
      ],
      "execution_count": 10,
      "outputs": [
        {
          "output_type": "execute_result",
          "data": {
            "text/plain": [
              "[0,\n",
              " 400,\n",
              " 720,\n",
              " 920,\n",
              " 1000,\n",
              " 1400,\n",
              " 1720,\n",
              " 2000,\n",
              " 2240,\n",
              " 2640,\n",
              " 2960,\n",
              " 3160,\n",
              " 3240,\n",
              " 3640,\n",
              " 3960,\n",
              " 4240,\n",
              " 4520,\n",
              " 4880,\n",
              " 5200,\n",
              " 5400,\n",
              " 5600,\n",
              " 5840,\n",
              " 6000,\n",
              " 6120,\n",
              " 6200]"
            ]
          },
          "metadata": {
            "tags": []
          },
          "execution_count": 10
        }
      ]
    },
    {
      "cell_type": "code",
      "metadata": {
        "id": "libTkD3YG34y"
      },
      "source": [
        "#adding the list to the dataframe as a new column\r\n",
        "\r\n",
        "df['Remaining amount received by the bid winner'] = list"
      ],
      "execution_count": 11,
      "outputs": []
    },
    {
      "cell_type": "code",
      "metadata": {
        "id": "QCMPt_B5KZAB"
      },
      "source": [
        "''' \r\n",
        "adding a new column to calculate the total amount recieved by the bid winner =\r\n",
        "Remaining amount returned to the bid winner + Net amount recieved by the bid winner\r\n",
        "\r\n",
        "'''\r\n",
        "\r\n",
        "df['Total amount received by the bid winner'] = df['Net amount recd by Bid winner'] + df['Remaining amount received by the bid winner']"
      ],
      "execution_count": 12,
      "outputs": []
    },
    {
      "cell_type": "code",
      "metadata": {
        "colab": {
          "base_uri": "https://localhost:8080/",
          "height": 841
        },
        "id": "wmYiVKEXJjRN",
        "outputId": "61298156-2646-41bf-ea1f-de3cf942d646"
      },
      "source": [
        "df"
      ],
      "execution_count": 13,
      "outputs": [
        {
          "output_type": "execute_result",
          "data": {
            "text/html": [
              "<div>\n",
              "<style scoped>\n",
              "    .dataframe tbody tr th:only-of-type {\n",
              "        vertical-align: middle;\n",
              "    }\n",
              "\n",
              "    .dataframe tbody tr th {\n",
              "        vertical-align: top;\n",
              "    }\n",
              "\n",
              "    .dataframe thead th {\n",
              "        text-align: right;\n",
              "    }\n",
              "</style>\n",
              "<table border=\"1\" class=\"dataframe\">\n",
              "  <thead>\n",
              "    <tr style=\"text-align: right;\">\n",
              "      <th></th>\n",
              "      <th>Month</th>\n",
              "      <th>Contribution</th>\n",
              "      <th>Amount won by the bidder</th>\n",
              "      <th>Chit fund organizer commission</th>\n",
              "      <th>Net amount recd by Bid winner</th>\n",
              "      <th>Amount returned to everyone in the group</th>\n",
              "      <th>Remaining amount received by the bid winner</th>\n",
              "      <th>Total amount received by the bid winner</th>\n",
              "    </tr>\n",
              "  </thead>\n",
              "  <tbody>\n",
              "    <tr>\n",
              "      <th>1</th>\n",
              "      <td>1</td>\n",
              "      <td>2000</td>\n",
              "      <td>40000</td>\n",
              "      <td>2500</td>\n",
              "      <td>37500</td>\n",
              "      <td>400</td>\n",
              "      <td>0</td>\n",
              "      <td>37500</td>\n",
              "    </tr>\n",
              "    <tr>\n",
              "      <th>2</th>\n",
              "      <td>2</td>\n",
              "      <td>2000</td>\n",
              "      <td>42000</td>\n",
              "      <td>2500</td>\n",
              "      <td>39500</td>\n",
              "      <td>320</td>\n",
              "      <td>400</td>\n",
              "      <td>39900</td>\n",
              "    </tr>\n",
              "    <tr>\n",
              "      <th>3</th>\n",
              "      <td>3</td>\n",
              "      <td>2000</td>\n",
              "      <td>45000</td>\n",
              "      <td>2500</td>\n",
              "      <td>42500</td>\n",
              "      <td>200</td>\n",
              "      <td>720</td>\n",
              "      <td>43220</td>\n",
              "    </tr>\n",
              "    <tr>\n",
              "      <th>4</th>\n",
              "      <td>4</td>\n",
              "      <td>2000</td>\n",
              "      <td>48000</td>\n",
              "      <td>2500</td>\n",
              "      <td>45500</td>\n",
              "      <td>80</td>\n",
              "      <td>920</td>\n",
              "      <td>46420</td>\n",
              "    </tr>\n",
              "    <tr>\n",
              "      <th>5</th>\n",
              "      <td>5</td>\n",
              "      <td>2000</td>\n",
              "      <td>40000</td>\n",
              "      <td>2500</td>\n",
              "      <td>37500</td>\n",
              "      <td>400</td>\n",
              "      <td>1000</td>\n",
              "      <td>38500</td>\n",
              "    </tr>\n",
              "    <tr>\n",
              "      <th>6</th>\n",
              "      <td>6</td>\n",
              "      <td>2000</td>\n",
              "      <td>42000</td>\n",
              "      <td>2500</td>\n",
              "      <td>39500</td>\n",
              "      <td>320</td>\n",
              "      <td>1400</td>\n",
              "      <td>40900</td>\n",
              "    </tr>\n",
              "    <tr>\n",
              "      <th>7</th>\n",
              "      <td>7</td>\n",
              "      <td>2000</td>\n",
              "      <td>43000</td>\n",
              "      <td>2500</td>\n",
              "      <td>40500</td>\n",
              "      <td>280</td>\n",
              "      <td>1720</td>\n",
              "      <td>42220</td>\n",
              "    </tr>\n",
              "    <tr>\n",
              "      <th>8</th>\n",
              "      <td>8</td>\n",
              "      <td>2000</td>\n",
              "      <td>44000</td>\n",
              "      <td>2500</td>\n",
              "      <td>41500</td>\n",
              "      <td>240</td>\n",
              "      <td>2000</td>\n",
              "      <td>43500</td>\n",
              "    </tr>\n",
              "    <tr>\n",
              "      <th>9</th>\n",
              "      <td>9</td>\n",
              "      <td>2000</td>\n",
              "      <td>40000</td>\n",
              "      <td>2500</td>\n",
              "      <td>37500</td>\n",
              "      <td>400</td>\n",
              "      <td>2240</td>\n",
              "      <td>39740</td>\n",
              "    </tr>\n",
              "    <tr>\n",
              "      <th>10</th>\n",
              "      <td>10</td>\n",
              "      <td>2000</td>\n",
              "      <td>42000</td>\n",
              "      <td>2500</td>\n",
              "      <td>39500</td>\n",
              "      <td>320</td>\n",
              "      <td>2640</td>\n",
              "      <td>42140</td>\n",
              "    </tr>\n",
              "    <tr>\n",
              "      <th>11</th>\n",
              "      <td>11</td>\n",
              "      <td>2000</td>\n",
              "      <td>45000</td>\n",
              "      <td>2500</td>\n",
              "      <td>42500</td>\n",
              "      <td>200</td>\n",
              "      <td>2960</td>\n",
              "      <td>45460</td>\n",
              "    </tr>\n",
              "    <tr>\n",
              "      <th>12</th>\n",
              "      <td>12</td>\n",
              "      <td>2000</td>\n",
              "      <td>48000</td>\n",
              "      <td>2500</td>\n",
              "      <td>45500</td>\n",
              "      <td>80</td>\n",
              "      <td>3160</td>\n",
              "      <td>48660</td>\n",
              "    </tr>\n",
              "    <tr>\n",
              "      <th>13</th>\n",
              "      <td>13</td>\n",
              "      <td>2000</td>\n",
              "      <td>40000</td>\n",
              "      <td>2500</td>\n",
              "      <td>37500</td>\n",
              "      <td>400</td>\n",
              "      <td>3240</td>\n",
              "      <td>40740</td>\n",
              "    </tr>\n",
              "    <tr>\n",
              "      <th>14</th>\n",
              "      <td>14</td>\n",
              "      <td>2000</td>\n",
              "      <td>42000</td>\n",
              "      <td>2500</td>\n",
              "      <td>39500</td>\n",
              "      <td>320</td>\n",
              "      <td>3640</td>\n",
              "      <td>43140</td>\n",
              "    </tr>\n",
              "    <tr>\n",
              "      <th>15</th>\n",
              "      <td>15</td>\n",
              "      <td>2000</td>\n",
              "      <td>43000</td>\n",
              "      <td>2500</td>\n",
              "      <td>40500</td>\n",
              "      <td>280</td>\n",
              "      <td>3960</td>\n",
              "      <td>44460</td>\n",
              "    </tr>\n",
              "    <tr>\n",
              "      <th>16</th>\n",
              "      <td>16</td>\n",
              "      <td>2000</td>\n",
              "      <td>43000</td>\n",
              "      <td>2500</td>\n",
              "      <td>40500</td>\n",
              "      <td>280</td>\n",
              "      <td>4240</td>\n",
              "      <td>44740</td>\n",
              "    </tr>\n",
              "    <tr>\n",
              "      <th>17</th>\n",
              "      <td>17</td>\n",
              "      <td>2000</td>\n",
              "      <td>41000</td>\n",
              "      <td>2500</td>\n",
              "      <td>38500</td>\n",
              "      <td>360</td>\n",
              "      <td>4520</td>\n",
              "      <td>43020</td>\n",
              "    </tr>\n",
              "    <tr>\n",
              "      <th>18</th>\n",
              "      <td>18</td>\n",
              "      <td>2000</td>\n",
              "      <td>42000</td>\n",
              "      <td>2500</td>\n",
              "      <td>39500</td>\n",
              "      <td>320</td>\n",
              "      <td>4880</td>\n",
              "      <td>44380</td>\n",
              "    </tr>\n",
              "    <tr>\n",
              "      <th>19</th>\n",
              "      <td>19</td>\n",
              "      <td>2000</td>\n",
              "      <td>45000</td>\n",
              "      <td>2500</td>\n",
              "      <td>42500</td>\n",
              "      <td>200</td>\n",
              "      <td>5200</td>\n",
              "      <td>47700</td>\n",
              "    </tr>\n",
              "    <tr>\n",
              "      <th>20</th>\n",
              "      <td>20</td>\n",
              "      <td>2000</td>\n",
              "      <td>45000</td>\n",
              "      <td>2500</td>\n",
              "      <td>42500</td>\n",
              "      <td>200</td>\n",
              "      <td>5400</td>\n",
              "      <td>47900</td>\n",
              "    </tr>\n",
              "    <tr>\n",
              "      <th>21</th>\n",
              "      <td>21</td>\n",
              "      <td>2000</td>\n",
              "      <td>44000</td>\n",
              "      <td>2500</td>\n",
              "      <td>41500</td>\n",
              "      <td>240</td>\n",
              "      <td>5600</td>\n",
              "      <td>47100</td>\n",
              "    </tr>\n",
              "    <tr>\n",
              "      <th>22</th>\n",
              "      <td>22</td>\n",
              "      <td>2000</td>\n",
              "      <td>46000</td>\n",
              "      <td>2500</td>\n",
              "      <td>43500</td>\n",
              "      <td>160</td>\n",
              "      <td>5840</td>\n",
              "      <td>49340</td>\n",
              "    </tr>\n",
              "    <tr>\n",
              "      <th>23</th>\n",
              "      <td>23</td>\n",
              "      <td>2000</td>\n",
              "      <td>47000</td>\n",
              "      <td>2500</td>\n",
              "      <td>44500</td>\n",
              "      <td>120</td>\n",
              "      <td>6000</td>\n",
              "      <td>50500</td>\n",
              "    </tr>\n",
              "    <tr>\n",
              "      <th>24</th>\n",
              "      <td>24</td>\n",
              "      <td>2000</td>\n",
              "      <td>48000</td>\n",
              "      <td>2500</td>\n",
              "      <td>45500</td>\n",
              "      <td>80</td>\n",
              "      <td>6120</td>\n",
              "      <td>51620</td>\n",
              "    </tr>\n",
              "    <tr>\n",
              "      <th>25</th>\n",
              "      <td>25</td>\n",
              "      <td>2000</td>\n",
              "      <td>50000</td>\n",
              "      <td>2500</td>\n",
              "      <td>47500</td>\n",
              "      <td>0</td>\n",
              "      <td>6200</td>\n",
              "      <td>53700</td>\n",
              "    </tr>\n",
              "  </tbody>\n",
              "</table>\n",
              "</div>"
            ],
            "text/plain": [
              "   Month  ... Total amount received by the bid winner\n",
              "1      1  ...                                   37500\n",
              "2      2  ...                                   39900\n",
              "3      3  ...                                   43220\n",
              "4      4  ...                                   46420\n",
              "5      5  ...                                   38500\n",
              "6      6  ...                                   40900\n",
              "7      7  ...                                   42220\n",
              "8      8  ...                                   43500\n",
              "9      9  ...                                   39740\n",
              "10    10  ...                                   42140\n",
              "11    11  ...                                   45460\n",
              "12    12  ...                                   48660\n",
              "13    13  ...                                   40740\n",
              "14    14  ...                                   43140\n",
              "15    15  ...                                   44460\n",
              "16    16  ...                                   44740\n",
              "17    17  ...                                   43020\n",
              "18    18  ...                                   44380\n",
              "19    19  ...                                   47700\n",
              "20    20  ...                                   47900\n",
              "21    21  ...                                   47100\n",
              "22    22  ...                                   49340\n",
              "23    23  ...                                   50500\n",
              "24    24  ...                                   51620\n",
              "25    25  ...                                   53700\n",
              "\n",
              "[25 rows x 8 columns]"
            ]
          },
          "metadata": {
            "tags": []
          },
          "execution_count": 13
        }
      ]
    },
    {
      "cell_type": "code",
      "metadata": {
        "id": "NpSVKraiJmCk"
      },
      "source": [
        "#calculating each month's bid winner return %\r\n",
        "\r\n",
        "df['Each month\\'s bid winner return %'] = (df['Total amount received by the bid winner']/50000)*100"
      ],
      "execution_count": 14,
      "outputs": []
    },
    {
      "cell_type": "code",
      "metadata": {
        "colab": {
          "base_uri": "https://localhost:8080/",
          "height": 841
        },
        "id": "8XQLAqrdKA8z",
        "outputId": "e185e27b-4a01-4062-f603-a0a269280b55"
      },
      "source": [
        "df"
      ],
      "execution_count": 15,
      "outputs": [
        {
          "output_type": "execute_result",
          "data": {
            "text/html": [
              "<div>\n",
              "<style scoped>\n",
              "    .dataframe tbody tr th:only-of-type {\n",
              "        vertical-align: middle;\n",
              "    }\n",
              "\n",
              "    .dataframe tbody tr th {\n",
              "        vertical-align: top;\n",
              "    }\n",
              "\n",
              "    .dataframe thead th {\n",
              "        text-align: right;\n",
              "    }\n",
              "</style>\n",
              "<table border=\"1\" class=\"dataframe\">\n",
              "  <thead>\n",
              "    <tr style=\"text-align: right;\">\n",
              "      <th></th>\n",
              "      <th>Month</th>\n",
              "      <th>Contribution</th>\n",
              "      <th>Amount won by the bidder</th>\n",
              "      <th>Chit fund organizer commission</th>\n",
              "      <th>Net amount recd by Bid winner</th>\n",
              "      <th>Amount returned to everyone in the group</th>\n",
              "      <th>Remaining amount received by the bid winner</th>\n",
              "      <th>Total amount received by the bid winner</th>\n",
              "      <th>Each month's bid winner return %</th>\n",
              "    </tr>\n",
              "  </thead>\n",
              "  <tbody>\n",
              "    <tr>\n",
              "      <th>1</th>\n",
              "      <td>1</td>\n",
              "      <td>2000</td>\n",
              "      <td>40000</td>\n",
              "      <td>2500</td>\n",
              "      <td>37500</td>\n",
              "      <td>400</td>\n",
              "      <td>0</td>\n",
              "      <td>37500</td>\n",
              "      <td>75</td>\n",
              "    </tr>\n",
              "    <tr>\n",
              "      <th>2</th>\n",
              "      <td>2</td>\n",
              "      <td>2000</td>\n",
              "      <td>42000</td>\n",
              "      <td>2500</td>\n",
              "      <td>39500</td>\n",
              "      <td>320</td>\n",
              "      <td>400</td>\n",
              "      <td>39900</td>\n",
              "      <td>79.8</td>\n",
              "    </tr>\n",
              "    <tr>\n",
              "      <th>3</th>\n",
              "      <td>3</td>\n",
              "      <td>2000</td>\n",
              "      <td>45000</td>\n",
              "      <td>2500</td>\n",
              "      <td>42500</td>\n",
              "      <td>200</td>\n",
              "      <td>720</td>\n",
              "      <td>43220</td>\n",
              "      <td>86.44</td>\n",
              "    </tr>\n",
              "    <tr>\n",
              "      <th>4</th>\n",
              "      <td>4</td>\n",
              "      <td>2000</td>\n",
              "      <td>48000</td>\n",
              "      <td>2500</td>\n",
              "      <td>45500</td>\n",
              "      <td>80</td>\n",
              "      <td>920</td>\n",
              "      <td>46420</td>\n",
              "      <td>92.84</td>\n",
              "    </tr>\n",
              "    <tr>\n",
              "      <th>5</th>\n",
              "      <td>5</td>\n",
              "      <td>2000</td>\n",
              "      <td>40000</td>\n",
              "      <td>2500</td>\n",
              "      <td>37500</td>\n",
              "      <td>400</td>\n",
              "      <td>1000</td>\n",
              "      <td>38500</td>\n",
              "      <td>77</td>\n",
              "    </tr>\n",
              "    <tr>\n",
              "      <th>6</th>\n",
              "      <td>6</td>\n",
              "      <td>2000</td>\n",
              "      <td>42000</td>\n",
              "      <td>2500</td>\n",
              "      <td>39500</td>\n",
              "      <td>320</td>\n",
              "      <td>1400</td>\n",
              "      <td>40900</td>\n",
              "      <td>81.8</td>\n",
              "    </tr>\n",
              "    <tr>\n",
              "      <th>7</th>\n",
              "      <td>7</td>\n",
              "      <td>2000</td>\n",
              "      <td>43000</td>\n",
              "      <td>2500</td>\n",
              "      <td>40500</td>\n",
              "      <td>280</td>\n",
              "      <td>1720</td>\n",
              "      <td>42220</td>\n",
              "      <td>84.44</td>\n",
              "    </tr>\n",
              "    <tr>\n",
              "      <th>8</th>\n",
              "      <td>8</td>\n",
              "      <td>2000</td>\n",
              "      <td>44000</td>\n",
              "      <td>2500</td>\n",
              "      <td>41500</td>\n",
              "      <td>240</td>\n",
              "      <td>2000</td>\n",
              "      <td>43500</td>\n",
              "      <td>87</td>\n",
              "    </tr>\n",
              "    <tr>\n",
              "      <th>9</th>\n",
              "      <td>9</td>\n",
              "      <td>2000</td>\n",
              "      <td>40000</td>\n",
              "      <td>2500</td>\n",
              "      <td>37500</td>\n",
              "      <td>400</td>\n",
              "      <td>2240</td>\n",
              "      <td>39740</td>\n",
              "      <td>79.48</td>\n",
              "    </tr>\n",
              "    <tr>\n",
              "      <th>10</th>\n",
              "      <td>10</td>\n",
              "      <td>2000</td>\n",
              "      <td>42000</td>\n",
              "      <td>2500</td>\n",
              "      <td>39500</td>\n",
              "      <td>320</td>\n",
              "      <td>2640</td>\n",
              "      <td>42140</td>\n",
              "      <td>84.28</td>\n",
              "    </tr>\n",
              "    <tr>\n",
              "      <th>11</th>\n",
              "      <td>11</td>\n",
              "      <td>2000</td>\n",
              "      <td>45000</td>\n",
              "      <td>2500</td>\n",
              "      <td>42500</td>\n",
              "      <td>200</td>\n",
              "      <td>2960</td>\n",
              "      <td>45460</td>\n",
              "      <td>90.92</td>\n",
              "    </tr>\n",
              "    <tr>\n",
              "      <th>12</th>\n",
              "      <td>12</td>\n",
              "      <td>2000</td>\n",
              "      <td>48000</td>\n",
              "      <td>2500</td>\n",
              "      <td>45500</td>\n",
              "      <td>80</td>\n",
              "      <td>3160</td>\n",
              "      <td>48660</td>\n",
              "      <td>97.32</td>\n",
              "    </tr>\n",
              "    <tr>\n",
              "      <th>13</th>\n",
              "      <td>13</td>\n",
              "      <td>2000</td>\n",
              "      <td>40000</td>\n",
              "      <td>2500</td>\n",
              "      <td>37500</td>\n",
              "      <td>400</td>\n",
              "      <td>3240</td>\n",
              "      <td>40740</td>\n",
              "      <td>81.48</td>\n",
              "    </tr>\n",
              "    <tr>\n",
              "      <th>14</th>\n",
              "      <td>14</td>\n",
              "      <td>2000</td>\n",
              "      <td>42000</td>\n",
              "      <td>2500</td>\n",
              "      <td>39500</td>\n",
              "      <td>320</td>\n",
              "      <td>3640</td>\n",
              "      <td>43140</td>\n",
              "      <td>86.28</td>\n",
              "    </tr>\n",
              "    <tr>\n",
              "      <th>15</th>\n",
              "      <td>15</td>\n",
              "      <td>2000</td>\n",
              "      <td>43000</td>\n",
              "      <td>2500</td>\n",
              "      <td>40500</td>\n",
              "      <td>280</td>\n",
              "      <td>3960</td>\n",
              "      <td>44460</td>\n",
              "      <td>88.92</td>\n",
              "    </tr>\n",
              "    <tr>\n",
              "      <th>16</th>\n",
              "      <td>16</td>\n",
              "      <td>2000</td>\n",
              "      <td>43000</td>\n",
              "      <td>2500</td>\n",
              "      <td>40500</td>\n",
              "      <td>280</td>\n",
              "      <td>4240</td>\n",
              "      <td>44740</td>\n",
              "      <td>89.48</td>\n",
              "    </tr>\n",
              "    <tr>\n",
              "      <th>17</th>\n",
              "      <td>17</td>\n",
              "      <td>2000</td>\n",
              "      <td>41000</td>\n",
              "      <td>2500</td>\n",
              "      <td>38500</td>\n",
              "      <td>360</td>\n",
              "      <td>4520</td>\n",
              "      <td>43020</td>\n",
              "      <td>86.04</td>\n",
              "    </tr>\n",
              "    <tr>\n",
              "      <th>18</th>\n",
              "      <td>18</td>\n",
              "      <td>2000</td>\n",
              "      <td>42000</td>\n",
              "      <td>2500</td>\n",
              "      <td>39500</td>\n",
              "      <td>320</td>\n",
              "      <td>4880</td>\n",
              "      <td>44380</td>\n",
              "      <td>88.76</td>\n",
              "    </tr>\n",
              "    <tr>\n",
              "      <th>19</th>\n",
              "      <td>19</td>\n",
              "      <td>2000</td>\n",
              "      <td>45000</td>\n",
              "      <td>2500</td>\n",
              "      <td>42500</td>\n",
              "      <td>200</td>\n",
              "      <td>5200</td>\n",
              "      <td>47700</td>\n",
              "      <td>95.4</td>\n",
              "    </tr>\n",
              "    <tr>\n",
              "      <th>20</th>\n",
              "      <td>20</td>\n",
              "      <td>2000</td>\n",
              "      <td>45000</td>\n",
              "      <td>2500</td>\n",
              "      <td>42500</td>\n",
              "      <td>200</td>\n",
              "      <td>5400</td>\n",
              "      <td>47900</td>\n",
              "      <td>95.8</td>\n",
              "    </tr>\n",
              "    <tr>\n",
              "      <th>21</th>\n",
              "      <td>21</td>\n",
              "      <td>2000</td>\n",
              "      <td>44000</td>\n",
              "      <td>2500</td>\n",
              "      <td>41500</td>\n",
              "      <td>240</td>\n",
              "      <td>5600</td>\n",
              "      <td>47100</td>\n",
              "      <td>94.2</td>\n",
              "    </tr>\n",
              "    <tr>\n",
              "      <th>22</th>\n",
              "      <td>22</td>\n",
              "      <td>2000</td>\n",
              "      <td>46000</td>\n",
              "      <td>2500</td>\n",
              "      <td>43500</td>\n",
              "      <td>160</td>\n",
              "      <td>5840</td>\n",
              "      <td>49340</td>\n",
              "      <td>98.68</td>\n",
              "    </tr>\n",
              "    <tr>\n",
              "      <th>23</th>\n",
              "      <td>23</td>\n",
              "      <td>2000</td>\n",
              "      <td>47000</td>\n",
              "      <td>2500</td>\n",
              "      <td>44500</td>\n",
              "      <td>120</td>\n",
              "      <td>6000</td>\n",
              "      <td>50500</td>\n",
              "      <td>101</td>\n",
              "    </tr>\n",
              "    <tr>\n",
              "      <th>24</th>\n",
              "      <td>24</td>\n",
              "      <td>2000</td>\n",
              "      <td>48000</td>\n",
              "      <td>2500</td>\n",
              "      <td>45500</td>\n",
              "      <td>80</td>\n",
              "      <td>6120</td>\n",
              "      <td>51620</td>\n",
              "      <td>103.24</td>\n",
              "    </tr>\n",
              "    <tr>\n",
              "      <th>25</th>\n",
              "      <td>25</td>\n",
              "      <td>2000</td>\n",
              "      <td>50000</td>\n",
              "      <td>2500</td>\n",
              "      <td>47500</td>\n",
              "      <td>0</td>\n",
              "      <td>6200</td>\n",
              "      <td>53700</td>\n",
              "      <td>107.4</td>\n",
              "    </tr>\n",
              "  </tbody>\n",
              "</table>\n",
              "</div>"
            ],
            "text/plain": [
              "   Month  ... Each month's bid winner return %\n",
              "1      1  ...                               75\n",
              "2      2  ...                             79.8\n",
              "3      3  ...                            86.44\n",
              "4      4  ...                            92.84\n",
              "5      5  ...                               77\n",
              "6      6  ...                             81.8\n",
              "7      7  ...                            84.44\n",
              "8      8  ...                               87\n",
              "9      9  ...                            79.48\n",
              "10    10  ...                            84.28\n",
              "11    11  ...                            90.92\n",
              "12    12  ...                            97.32\n",
              "13    13  ...                            81.48\n",
              "14    14  ...                            86.28\n",
              "15    15  ...                            88.92\n",
              "16    16  ...                            89.48\n",
              "17    17  ...                            86.04\n",
              "18    18  ...                            88.76\n",
              "19    19  ...                             95.4\n",
              "20    20  ...                             95.8\n",
              "21    21  ...                             94.2\n",
              "22    22  ...                            98.68\n",
              "23    23  ...                              101\n",
              "24    24  ...                           103.24\n",
              "25    25  ...                            107.4\n",
              "\n",
              "[25 rows x 9 columns]"
            ]
          },
          "metadata": {
            "tags": []
          },
          "execution_count": 15
        }
      ]
    },
    {
      "cell_type": "markdown",
      "metadata": {
        "id": "UrzgkRl0H1uU"
      },
      "source": [
        "## What is the Annualized Return of the person who bids in the last month ?"
      ]
    },
    {
      "cell_type": "code",
      "metadata": {
        "colab": {
          "base_uri": "https://localhost:8080/"
        },
        "id": "XZnC9_8BH_va",
        "outputId": "e1b30e1a-d5a3-4dbc-93e1-88d37a039a78"
      },
      "source": [
        "df[\"Total amount received by the bid winner\"][25]"
      ],
      "execution_count": 18,
      "outputs": [
        {
          "output_type": "execute_result",
          "data": {
            "text/plain": [
              "53700"
            ]
          },
          "metadata": {
            "tags": []
          },
          "execution_count": 18
        }
      ]
    },
    {
      "cell_type": "markdown",
      "metadata": {
        "id": "Xhl5WC78ILPS"
      },
      "source": [
        "## What is the Annualized Return of the person who bids in the first month ?"
      ]
    },
    {
      "cell_type": "code",
      "metadata": {
        "colab": {
          "base_uri": "https://localhost:8080/"
        },
        "id": "qAbKfO40IMxf",
        "outputId": "30fe52d9-4b7e-4c2b-c442-4eef797d9812"
      },
      "source": [
        "df[\"Total amount received by the bid winner\"][1]"
      ],
      "execution_count": 19,
      "outputs": [
        {
          "output_type": "execute_result",
          "data": {
            "text/plain": [
              "37500"
            ]
          },
          "metadata": {
            "tags": []
          },
          "execution_count": 19
        }
      ]
    },
    {
      "cell_type": "markdown",
      "metadata": {
        "id": "z5-SOq2YIhV5"
      },
      "source": [
        "## Return % for each month's bid winner"
      ]
    },
    {
      "cell_type": "code",
      "metadata": {
        "colab": {
          "base_uri": "https://localhost:8080/"
        },
        "id": "7q5cQTWcIiiP",
        "outputId": "45283215-a11a-412f-f155-c1bc24d50b45"
      },
      "source": [
        "df[\"Each month's bid winner return %\"]"
      ],
      "execution_count": 20,
      "outputs": [
        {
          "output_type": "execute_result",
          "data": {
            "text/plain": [
              "1         75\n",
              "2       79.8\n",
              "3      86.44\n",
              "4      92.84\n",
              "5         77\n",
              "6       81.8\n",
              "7      84.44\n",
              "8         87\n",
              "9      79.48\n",
              "10     84.28\n",
              "11     90.92\n",
              "12     97.32\n",
              "13     81.48\n",
              "14     86.28\n",
              "15     88.92\n",
              "16     89.48\n",
              "17     86.04\n",
              "18     88.76\n",
              "19      95.4\n",
              "20      95.8\n",
              "21      94.2\n",
              "22     98.68\n",
              "23       101\n",
              "24    103.24\n",
              "25     107.4\n",
              "Name: Each month's bid winner return %, dtype: object"
            ]
          },
          "metadata": {
            "tags": []
          },
          "execution_count": 20
        }
      ]
    },
    {
      "cell_type": "code",
      "metadata": {
        "id": "6Be61ESxIre9"
      },
      "source": [
        ""
      ],
      "execution_count": null,
      "outputs": []
    }
  ]
}